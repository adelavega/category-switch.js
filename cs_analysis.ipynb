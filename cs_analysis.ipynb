{
 "metadata": {
  "name": "",
  "signature": "sha256:613d4bb2f3e4ecf9dc404d5631c599639faaaac04c7eb771b54aacb192cd443f"
 },
 "nbformat": 3,
 "nbformat_minor": 0,
 "worksheets": [
  {
   "cells": [
    {
     "cell_type": "code",
     "collapsed": false,
     "input": [
      "import pandas as pd\n",
      "import pickle\n",
      "import numpy as np\n",
      "import seaborn as sns\n",
      "import paramiko\n",
      "import json\n",
      "from scipy.stats import pearsonr\n",
      "%matplotlib inline\n"
     ],
     "language": "python",
     "metadata": {},
     "outputs": [],
     "prompt_number": 201
    },
    {
     "cell_type": "code",
     "collapsed": false,
     "input": [
      "ssh = paramiko.SSHClient()\n",
      "ssh.set_missing_host_key_policy(paramiko.AutoAddPolicy())\n",
      "ssh.connect(hostname='genesforgood-banichlab.rhcloud.com', username='54bf3ae6e0b8cd98c6000041')\n",
      "stdin, stdout, stderr = ssh.exec_command('python app-root/repo/python/download_data.py')"
     ],
     "language": "python",
     "metadata": {},
     "outputs": [],
     "prompt_number": 202
    },
    {
     "cell_type": "code",
     "collapsed": false,
     "input": [
      "all_data = stdout.readlines()\n",
      "trial_data = [json.loads(part)['data'] for part in all_data]"
     ],
     "language": "python",
     "metadata": {},
     "outputs": [],
     "prompt_number": 203
    },
    {
     "cell_type": "code",
     "collapsed": false,
     "input": [
      "qs_data = [json.loads(part)['questiondata'] for part in all_data]"
     ],
     "language": "python",
     "metadata": {},
     "outputs": [],
     "prompt_number": 204
    },
    {
     "cell_type": "code",
     "collapsed": false,
     "input": [
      "openended = [row['openended'] for row in qs_data if 'openended' in row.keys()]"
     ],
     "language": "python",
     "metadata": {},
     "outputs": [],
     "prompt_number": 205
    },
    {
     "cell_type": "code",
     "collapsed": false,
     "input": [
      "np.array([s.isspace() for s in openended]).mean()"
     ],
     "language": "python",
     "metadata": {},
     "outputs": [
      {
       "metadata": {},
       "output_type": "pyout",
       "prompt_number": 206,
       "text": [
        "0.65000000000000002"
       ]
      }
     ],
     "prompt_number": 206
    },
    {
     "cell_type": "code",
     "collapsed": false,
     "input": [
      "for s in openended:\n",
      "    if not s.isspace():\n",
      "        print s.strip() \n",
      "        print \"--\""
     ],
     "language": "python",
     "metadata": {},
     "outputs": [
      {
       "output_type": "stream",
       "stream": "stdout",
       "text": [
        "Nothing to improve, I thought it was really well done. I found that if I created questions for the symbols it helped dramatically. So a heart asked \"Is it alive?\" and a diamond asked \"Is it big?\" And that made it much less stressful for the final round. Not that I did very well...\n",
        "--\n",
        "interesting hit\n",
        "--\n",
        "thanks\n",
        "--\n",
        "No comments\n",
        "--\n",
        "N/A\n",
        "--\n",
        "Pay was quite low for the time involved. $6/hr is below even federal minimum wage.\n",
        "--\n",
        "Makes you really have to be focused\n",
        "--\n",
        "Challenging!\n",
        "--\n",
        "n/a\n",
        "--\n",
        "This was a good hit.\n",
        "--\n",
        "I thought some of the objects could have been better chosen for the size categorization - things like lizards and tables can vary greatly in size which made it harder and less intuitive. \n",
        "\n",
        "Also, the HIT screen says the task payment is $1.50, though the \"Reward\" is $.75. You might want to rectify this discrepancy. \n",
        "Thanks\n",
        "--\n",
        "Interesting,thanks!\n",
        "--\n",
        "Very interesting!\n",
        "--\n",
        "worked well, thank you!\n",
        "--\n"
       ]
      }
     ],
     "prompt_number": 207
    },
    {
     "cell_type": "code",
     "collapsed": false,
     "input": [
      "qs_data = pd.DataFrame(qs_data).dropna().drop('openended', 1).astype('float')"
     ],
     "language": "python",
     "metadata": {},
     "outputs": [],
     "prompt_number": 208
    },
    {
     "cell_type": "code",
     "collapsed": false,
     "input": [
      "sns.boxplot(qs_data)"
     ],
     "language": "python",
     "metadata": {},
     "outputs": [
      {
       "metadata": {},
       "output_type": "pyout",
       "prompt_number": 213,
       "text": [
        "<matplotlib.axes._subplots.AxesSubplot at 0x11b1c83d0>"
       ]
      },
      {
       "metadata": {},
       "output_type": "display_data",
       "png": "[encoded data removed]",
       "text": [
        "<matplotlib.figure.Figure at 0x11b241fd0>"
       ]
      }
     ],
     "prompt_number": 213
    },
    {
     "cell_type": "code",
     "collapsed": false,
     "input": [
      "sns.violinplot(qs_data, inner='points', bw=.3)"
     ],
     "language": "python",
     "metadata": {},
     "outputs": [
      {
       "metadata": {},
       "output_type": "pyout",
       "prompt_number": 214,
       "text": [
        "<matplotlib.axes._subplots.AxesSubplot at 0x11beb0f10>"
       ]
      },
      {
       "metadata": {},
       "output_type": "display_data",
       "png": "[encoded data removed]",
       "text": [
        "<matplotlib.figure.Figure at 0x11b1f8e90>"
       ]
      }
     ],
     "prompt_number": 214
    },
    {
     "cell_type": "code",
     "collapsed": false,
     "input": [
      "sns.corrplot(qs_data)"
     ],
     "language": "python",
     "metadata": {},
     "outputs": [
      {
       "metadata": {},
       "output_type": "pyout",
       "prompt_number": 215,
       "text": [
        "<matplotlib.axes._subplots.AxesSubplot at 0x11b384610>"
       ]
      },
      {
       "metadata": {},
       "output_type": "display_data",
       "png": "[encoded data removed]",
       "text": [
        "<matplotlib.figure.Figure at 0x11b41ba50>"
       ]
      }
     ],
     "prompt_number": 215
    },
    {
     "cell_type": "code",
     "collapsed": false,
     "input": [
      "sns.regplot(qs_data['informative'], qs_data['difficulty'])"
     ],
     "language": "python",
     "metadata": {},
     "outputs": [
      {
       "metadata": {},
       "output_type": "pyout",
       "prompt_number": 222,
       "text": [
        "<matplotlib.axes._subplots.AxesSubplot at 0x11b893050>"
       ]
      },
      {
       "metadata": {},
       "output_type": "display_data",
       "png": "[encoded data removed]",
       "text": [
        "<matplotlib.figure.Figure at 0x11b89de50>"
       ]
      }
     ],
     "prompt_number": 222
    },
    {
     "cell_type": "code",
     "collapsed": false,
     "input": [
      "new_data = [sub for sub in trial_data if not isinstance(sub[0]['trialdata'], list)]"
     ],
     "language": "python",
     "metadata": {},
     "outputs": [],
     "prompt_number": 256
    },
    {
     "cell_type": "code",
     "collapsed": false,
     "input": [
      "old_data = [sub for sub in trial_data if isinstance(sub[0]['trialdata'], list)]"
     ],
     "language": "python",
     "metadata": {},
     "outputs": [],
     "prompt_number": 257
    },
    {
     "cell_type": "code",
     "collapsed": false,
     "input": [
      "## Flatten\n",
      "for sub in new_data:\n",
      "    for trial in sub:\n",
      "        for key in trial['trialdata']:\n",
      "            trial[key] = trial['trialdata'][key]"
     ],
     "language": "python",
     "metadata": {},
     "outputs": [],
     "prompt_number": 258
    },
    {
     "cell_type": "code",
     "collapsed": false,
     "input": [
      "trial_data_pd = pd.concat([pd.DataFrame(sub) for sub in new_data]).drop('trialdata', 1)\n",
      "trial_data_pd = trial_data_pd.reset_index()"
     ],
     "language": "python",
     "metadata": {},
     "outputs": [],
     "prompt_number": 259
    },
    {
     "cell_type": "code",
     "collapsed": false,
     "input": [
      "trials = trial_data_pd[(trial_data_pd['acc'] == 1) | (trial_data_pd['acc'] == 0)]"
     ],
     "language": "python",
     "metadata": {},
     "outputs": [],
     "prompt_number": 260
    },
    {
     "cell_type": "code",
     "collapsed": false,
     "input": [
      "pd.options.display.max_rows = 300"
     ],
     "language": "python",
     "metadata": {},
     "outputs": [],
     "prompt_number": 261
    },
    {
     "cell_type": "code",
     "collapsed": false,
     "input": [
      "conditions = dict()\n",
      "conditions['livingPrac'] = range(9, 21)\n",
      "conditions['livingReal'] = range(22, 56)\n",
      "conditions['sizePrac'] = range(59,84)\n",
      "conditions['sizeReal'] = range(85, 119)\n",
      "conditions['mixedPrac'] = range(120, 144)\n",
      "conditions['mixedReal'] = range(145, 282)\n",
      "inv_cond = {}\n",
      "for key, lis in conditions.items():\n",
      "    for item in lis:\n",
      "        inv_cond[item] = key\n"
     ],
     "language": "python",
     "metadata": {},
     "outputs": [],
     "prompt_number": 262
    },
    {
     "cell_type": "code",
     "collapsed": false,
     "input": [
      "trials['cond'] = trials['current_trial'].map(inv_cond)"
     ],
     "language": "python",
     "metadata": {},
     "outputs": [],
     "prompt_number": 263
    },
    {
     "cell_type": "code",
     "collapsed": false,
     "input": [
      "trials = trials[trials['cond'].notnull()]"
     ],
     "language": "python",
     "metadata": {},
     "outputs": [],
     "prompt_number": 264
    },
    {
     "cell_type": "code",
     "collapsed": false,
     "input": [
      "sns.barplot(trials['cond'], trials['rt'])"
     ],
     "language": "python",
     "metadata": {},
     "outputs": [
      {
       "metadata": {},
       "output_type": "pyout",
       "prompt_number": 265,
       "text": [
        "<matplotlib.axes._subplots.AxesSubplot at 0x116c49350>"
       ]
      },
      {
       "metadata": {},
       "output_type": "display_data",
       "png": "[encoded data removed]",
       "text": [
        "<matplotlib.figure.Figure at 0x10ff08390>"
       ]
      }
     ],
     "prompt_number": 265
    },
    {
     "cell_type": "code",
     "collapsed": false,
     "input": [
      "old_data = pd.read_csv('data/clean_trial_data.csv')"
     ],
     "language": "python",
     "metadata": {},
     "outputs": [],
     "prompt_number": 266
    },
    {
     "cell_type": "code",
     "collapsed": false,
     "input": [
      "good_conds = ['livingPrac', 'livingReal', 'sizePrac', 'sizeReal', 'mixedPrac', 'mixedReal', 'mixedReal1', 'mixedReal2']"
     ],
     "language": "python",
     "metadata": {},
     "outputs": [],
     "prompt_number": 22
    },
    {
     "cell_type": "code",
     "collapsed": false,
     "input": [
      "good_old_data = old_data[np.in1d(old_data['condition'], good_conds)]"
     ],
     "language": "python",
     "metadata": {},
     "outputs": [],
     "prompt_number": 23
    },
    {
     "cell_type": "code",
     "collapsed": false,
     "input": [
      "trials.columns"
     ],
     "language": "python",
     "metadata": {},
     "outputs": [
      {
       "metadata": {},
       "output_type": "pyout",
       "prompt_number": 24,
       "text": [
        "Index([u'index', u'acc', u'block', u'current_trial', u'dateTime', u'resp', u'rt', u'uniqueid', u'cond'], dtype='object')"
       ]
      }
     ],
     "prompt_number": 24
    },
    {
     "cell_type": "code",
     "collapsed": false,
     "input": [
      "good_old_data = good_old_data.rename(columns={'ID':'uniqueid'})"
     ],
     "language": "python",
     "metadata": {},
     "outputs": [],
     "prompt_number": 25
    },
    {
     "cell_type": "code",
     "collapsed": false,
     "input": [
      "good_old_data = good_old_data[good_old_data['RT'] != \"REST\"]"
     ],
     "language": "python",
     "metadata": {},
     "outputs": [],
     "prompt_number": 26
    },
    {
     "cell_type": "code",
     "collapsed": false,
     "input": [
      "good_old_data['rt'] = good_old_data['RT'].convert_objects(convert_numeric=True)"
     ],
     "language": "python",
     "metadata": {},
     "outputs": [],
     "prompt_number": 27
    },
    {
     "cell_type": "code",
     "collapsed": false,
     "input": [
      "good_old_data['acc'] = good_old_data['ACC']"
     ],
     "language": "python",
     "metadata": {},
     "outputs": [],
     "prompt_number": 28
    },
    {
     "cell_type": "code",
     "collapsed": false,
     "input": [
      "sns.barplot(good_old_data['condition'], good_old_data['rt'])"
     ],
     "language": "python",
     "metadata": {},
     "outputs": [
      {
       "metadata": {},
       "output_type": "pyout",
       "prompt_number": 29,
       "text": [
        "<matplotlib.axes._subplots.AxesSubplot at 0x11704cf10>"
       ]
      },
      {
       "metadata": {},
       "output_type": "display_data",
       "png": "[encoded data removed]",
       "text": [
        "<matplotlib.figure.Figure at 0x1170f1c10>"
       ]
      }
     ],
     "prompt_number": 29
    },
    {
     "cell_type": "code",
     "collapsed": false,
     "input": [
      "good_old_data['cond'] = good_old_data.apply(lambda x: 'mixedReal' if x['condition'] in ['mixedReal1', 'mixedReal2'] else x['condition'], axis=1)"
     ],
     "language": "python",
     "metadata": {},
     "outputs": [],
     "prompt_number": 30
    },
    {
     "cell_type": "code",
     "collapsed": false,
     "input": [],
     "language": "python",
     "metadata": {},
     "outputs": [],
     "prompt_number": 30
    },
    {
     "cell_type": "code",
     "collapsed": false,
     "input": [
      "all_trials = pd.concat([good_old_data[['uniqueid', 'cond', 'rt', 'acc']], trials[['uniqueid', 'cond', 'rt', 'acc', ]]], axis=0)"
     ],
     "language": "python",
     "metadata": {},
     "outputs": [],
     "prompt_number": 31
    },
    {
     "cell_type": "code",
     "collapsed": false,
     "input": [
      "sns.barplot(all_trials['cond'], all_trials['rt'])"
     ],
     "language": "python",
     "metadata": {},
     "outputs": [
      {
       "metadata": {},
       "output_type": "pyout",
       "prompt_number": 32,
       "text": [
        "<matplotlib.axes._subplots.AxesSubplot at 0x117a07150>"
       ]
      },
      {
       "metadata": {},
       "output_type": "display_data",
       "png": "[encoded data removed]",
       "text": [
        "<matplotlib.figure.Figure at 0x117a30890>"
       ]
      }
     ],
     "prompt_number": 32
    },
    {
     "cell_type": "code",
     "collapsed": false,
     "input": [
      "all_trials['acc'] = all_trials['acc'].convert_objects(convert_numeric=True)"
     ],
     "language": "python",
     "metadata": {},
     "outputs": [],
     "prompt_number": 33
    },
    {
     "cell_type": "code",
     "collapsed": false,
     "input": [
      "pl = sns.barplot(all_trials['cond'], all_trials['acc'])\n",
      "pl.axes.set_ylim(.75, 1)"
     ],
     "language": "python",
     "metadata": {},
     "outputs": [
      {
       "metadata": {},
       "output_type": "pyout",
       "prompt_number": 34,
       "text": [
        "(0.75, 1)"
       ]
      },
      {
       "metadata": {},
       "output_type": "display_data",
       "png": "[encoded data removed]",
       "text": [
        "<matplotlib.figure.Figure at 0x117a75790>"
       ]
      }
     ],
     "prompt_number": 34
    },
    {
     "cell_type": "code",
     "collapsed": false,
     "input": [
      "sns.kdeplot(all_trials['rt'])"
     ],
     "language": "python",
     "metadata": {},
     "outputs": [
      {
       "metadata": {},
       "output_type": "pyout",
       "prompt_number": 35,
       "text": [
        "<matplotlib.axes._subplots.AxesSubplot at 0x117c270d0>"
       ]
      },
      {
       "metadata": {},
       "output_type": "display_data",
       "png": "[encoded data removed]",
       "text": [
        "<matplotlib.figure.Figure at 0x117c3c090>"
       ]
      }
     ],
     "prompt_number": 35
    }
   ],
   "metadata": {}
  }
 ]
}